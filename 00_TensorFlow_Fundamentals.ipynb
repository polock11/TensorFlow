{
  "nbformat": 4,
  "nbformat_minor": 0,
  "metadata": {
    "colab": {
      "provenance": [],
      "gpuType": "T4",
      "authorship_tag": "ABX9TyMygJq3aKgvKqgACgbuUDSr",
      "include_colab_link": true
    },
    "kernelspec": {
      "name": "python3",
      "display_name": "Python 3"
    },
    "language_info": {
      "name": "python"
    },
    "accelerator": "GPU"
  },
  "cells": [
    {
      "cell_type": "markdown",
      "metadata": {
        "id": "view-in-github",
        "colab_type": "text"
      },
      "source": [
        "<a href=\"https://colab.research.google.com/github/polock11/TensorFlow/blob/main/00_TensorFlow_Fundamentals.ipynb\" target=\"_parent\"><img src=\"https://colab.research.google.com/assets/colab-badge.svg\" alt=\"Open In Colab\"/></a>"
      ]
    },
    {
      "cell_type": "markdown",
      "source": [
        "# Topics Covered\n",
        "* Intro\n",
        "* Getting info from tensors\n",
        "* Manipulation tensors\n",
        "* Using @tf.fuction\n",
        "* Using GPU's"
      ],
      "metadata": {
        "id": "VhC_LFeRmgJw"
      }
    },
    {
      "cell_type": "markdown",
      "source": [
        "#Definitions\n",
        "* Scalar: a scalar is a single number\n",
        "* Vector: a vector is a number with direction\n",
        "* Matrix: a matrix is a 2 diemnsional arry of numbers\n",
        "* Trnsor: a tensor is a n-dimensional arry of numbers (n can be any positive number)"
      ],
      "metadata": {
        "id": "juh_QfRF6EyI"
      }
    },
    {
      "cell_type": "markdown",
      "source": [
        "#I16"
      ],
      "metadata": {
        "id": "MV4s5-Pn6xBc"
      }
    },
    {
      "cell_type": "code",
      "execution_count": null,
      "metadata": {
        "colab": {
          "base_uri": "https://localhost:8080/"
        },
        "id": "Nz5q2vqBl-Gf",
        "outputId": "6ff9a313-8c6b-4172-9043-77b97a5a32df"
      },
      "outputs": [
        {
          "output_type": "stream",
          "name": "stdout",
          "text": [
            "2.15.0\n"
          ]
        }
      ],
      "source": [
        "import tensorflow as tf\n",
        "print(tf.__version__)"
      ]
    },
    {
      "cell_type": "code",
      "source": [
        "#creating tensors\n",
        "scalar = tf.constant(7)\n",
        "scalar"
      ],
      "metadata": {
        "colab": {
          "base_uri": "https://localhost:8080/"
        },
        "id": "ljoW2uGDnC5g",
        "outputId": "0b067f30-b047-4d96-bcb2-8e7087cc7717"
      },
      "execution_count": null,
      "outputs": [
        {
          "output_type": "execute_result",
          "data": {
            "text/plain": [
              "<tf.Tensor: shape=(), dtype=int32, numpy=7>"
            ]
          },
          "metadata": {},
          "execution_count": 2
        }
      ]
    },
    {
      "cell_type": "code",
      "source": [
        "#check dimension\n",
        "scalar.ndim"
      ],
      "metadata": {
        "colab": {
          "base_uri": "https://localhost:8080/"
        },
        "id": "UwV8ck6ynhUH",
        "outputId": "1baf08dc-dc7c-4ba3-e7ec-d1a83c6bcefa"
      },
      "execution_count": null,
      "outputs": [
        {
          "output_type": "execute_result",
          "data": {
            "text/plain": [
              "0"
            ]
          },
          "metadata": {},
          "execution_count": 3
        }
      ]
    },
    {
      "cell_type": "code",
      "source": [
        "#create vector\n",
        "vector = tf.constant([10,10])\n",
        "vector"
      ],
      "metadata": {
        "colab": {
          "base_uri": "https://localhost:8080/"
        },
        "id": "F9i_l0iRnq3u",
        "outputId": "d82ea73d-c507-463a-b3e2-75d7951fdf41"
      },
      "execution_count": null,
      "outputs": [
        {
          "output_type": "execute_result",
          "data": {
            "text/plain": [
              "<tf.Tensor: shape=(2,), dtype=int32, numpy=array([10, 10], dtype=int32)>"
            ]
          },
          "metadata": {},
          "execution_count": 4
        }
      ]
    },
    {
      "cell_type": "code",
      "source": [
        "vector.ndim"
      ],
      "metadata": {
        "colab": {
          "base_uri": "https://localhost:8080/"
        },
        "id": "Aqqo9Ep_n3b_",
        "outputId": "55447b83-f3af-4e13-8c6b-bc177825d4c2"
      },
      "execution_count": null,
      "outputs": [
        {
          "output_type": "execute_result",
          "data": {
            "text/plain": [
              "1"
            ]
          },
          "metadata": {},
          "execution_count": 5
        }
      ]
    },
    {
      "cell_type": "code",
      "source": [
        "#create matrix\n",
        "matrix = tf.constant([\n",
        "    [10,3,5],\n",
        "    [4,89,3]\n",
        "])\n",
        "matrix"
      ],
      "metadata": {
        "colab": {
          "base_uri": "https://localhost:8080/"
        },
        "id": "G6HczXYbn-Rr",
        "outputId": "e879d0ea-74a1-4d44-e767-a6473a3f779d"
      },
      "execution_count": null,
      "outputs": [
        {
          "output_type": "execute_result",
          "data": {
            "text/plain": [
              "<tf.Tensor: shape=(2, 3), dtype=int32, numpy=\n",
              "array([[10,  3,  5],\n",
              "       [ 4, 89,  3]], dtype=int32)>"
            ]
          },
          "metadata": {},
          "execution_count": 6
        }
      ]
    },
    {
      "cell_type": "code",
      "source": [
        "matrix.ndim"
      ],
      "metadata": {
        "colab": {
          "base_uri": "https://localhost:8080/"
        },
        "id": "4wwDsUnKoQLV",
        "outputId": "bec734fe-3b7c-40fc-881b-b27ce21e07ce"
      },
      "execution_count": null,
      "outputs": [
        {
          "output_type": "execute_result",
          "data": {
            "text/plain": [
              "2"
            ]
          },
          "metadata": {},
          "execution_count": 7
        }
      ]
    },
    {
      "cell_type": "code",
      "source": [
        "another_matrix = tf.constant([\n",
        "        [10., 7.],\n",
        "        [4., 5.],\n",
        "        [6., 9.]\n",
        "], dtype= tf.float16)"
      ],
      "metadata": {
        "id": "awDECEyZxRrA"
      },
      "execution_count": null,
      "outputs": []
    },
    {
      "cell_type": "code",
      "source": [
        "another_matrix"
      ],
      "metadata": {
        "colab": {
          "base_uri": "https://localhost:8080/"
        },
        "id": "AiPi2BgfxzAX",
        "outputId": "a11f46a3-49b0-4523-b6c9-b9ba46725b5a"
      },
      "execution_count": null,
      "outputs": [
        {
          "output_type": "execute_result",
          "data": {
            "text/plain": [
              "<tf.Tensor: shape=(3, 2), dtype=float16, numpy=\n",
              "array([[10.,  7.],\n",
              "       [ 4.,  5.],\n",
              "       [ 6.,  9.]], dtype=float16)>"
            ]
          },
          "metadata": {},
          "execution_count": 9
        }
      ]
    },
    {
      "cell_type": "code",
      "source": [
        "# creating a 3 dimensional tensor\n",
        "\n",
        "tensor = tf.constant([\n",
        "    [[1,2,3],\n",
        "     [4,5,6]],\n",
        "    [[3,4,5],\n",
        "     [2,5,8]],\n",
        "    [[4,5,6],\n",
        "     [2,3,5]]\n",
        "])\n",
        "\n",
        "tensor"
      ],
      "metadata": {
        "colab": {
          "base_uri": "https://localhost:8080/"
        },
        "id": "n4bessA5z27W",
        "outputId": "3ee47e28-7fe0-4849-9427-72a2c47f3860"
      },
      "execution_count": null,
      "outputs": [
        {
          "output_type": "execute_result",
          "data": {
            "text/plain": [
              "<tf.Tensor: shape=(3, 2, 3), dtype=int32, numpy=\n",
              "array([[[1, 2, 3],\n",
              "        [4, 5, 6]],\n",
              "\n",
              "       [[3, 4, 5],\n",
              "        [2, 5, 8]],\n",
              "\n",
              "       [[4, 5, 6],\n",
              "        [2, 3, 5]]], dtype=int32)>"
            ]
          },
          "metadata": {},
          "execution_count": 10
        }
      ]
    },
    {
      "cell_type": "markdown",
      "source": [
        "# I17"
      ],
      "metadata": {
        "id": "8fV76QIK6p7R"
      }
    },
    {
      "cell_type": "code",
      "source": [
        "changable_tensor = tf.Variable([1,2,4])\n",
        "unchangable_tensor = tf.constant([3,4,5])"
      ],
      "metadata": {
        "id": "witvv-vK9DCR"
      },
      "execution_count": null,
      "outputs": []
    },
    {
      "cell_type": "code",
      "source": [
        "changable_tensor[0].assign(6)\n",
        "changable_tensor"
      ],
      "metadata": {
        "colab": {
          "base_uri": "https://localhost:8080/"
        },
        "id": "N5ODIxTY9Mpb",
        "outputId": "19b730f3-0b9a-421f-9b88-15d30b519a6d"
      },
      "execution_count": null,
      "outputs": [
        {
          "output_type": "execute_result",
          "data": {
            "text/plain": [
              "<tf.Variable 'Variable:0' shape=(3,) dtype=int32, numpy=array([6, 2, 4], dtype=int32)>"
            ]
          },
          "metadata": {},
          "execution_count": 12
        }
      ]
    },
    {
      "cell_type": "code",
      "source": [
        "unchangable_tensor[0]"
      ],
      "metadata": {
        "colab": {
          "base_uri": "https://localhost:8080/"
        },
        "id": "DHDFCpbW9Wkx",
        "outputId": "416e1ee5-2d7c-4796-dfe4-0e04c19dd638"
      },
      "execution_count": null,
      "outputs": [
        {
          "output_type": "execute_result",
          "data": {
            "text/plain": [
              "<tf.Tensor: shape=(), dtype=int32, numpy=3>"
            ]
          },
          "metadata": {},
          "execution_count": 13
        }
      ]
    },
    {
      "cell_type": "markdown",
      "source": [
        "#I18"
      ],
      "metadata": {
        "id": "uLGYpPA29-NH"
      }
    },
    {
      "cell_type": "code",
      "source": [
        " # creating random tensors\n",
        "\n",
        "random_1 = tf.random.Generator.from_seed(43)\n",
        "random_1 = random_1.normal(shape=(3,4,3))\n",
        "#random_1\n",
        "\n",
        "random_2 = tf.random.Generator.from_seed(43)\n",
        "random_2 = random_2.normal(shape=(3,4,3))\n",
        "\n",
        "random_3 = tf.random.Generator.from_seed(43)\n",
        "random_3 = random_3.normal(shape=(3,4,3))"
      ],
      "metadata": {
        "id": "nTPetaPx-ATj"
      },
      "execution_count": null,
      "outputs": []
    },
    {
      "cell_type": "code",
      "source": [
        "random_1 == random_2\n",
        "random_2 == random_3"
      ],
      "metadata": {
        "colab": {
          "base_uri": "https://localhost:8080/"
        },
        "id": "xOuYhLAXD2sD",
        "outputId": "ce8cdf96-5cbc-438c-e751-5500f33403b0"
      },
      "execution_count": null,
      "outputs": [
        {
          "output_type": "execute_result",
          "data": {
            "text/plain": [
              "<tf.Tensor: shape=(3, 4, 3), dtype=bool, numpy=\n",
              "array([[[ True,  True,  True],\n",
              "        [ True,  True,  True],\n",
              "        [ True,  True,  True],\n",
              "        [ True,  True,  True]],\n",
              "\n",
              "       [[ True,  True,  True],\n",
              "        [ True,  True,  True],\n",
              "        [ True,  True,  True],\n",
              "        [ True,  True,  True]],\n",
              "\n",
              "       [[ True,  True,  True],\n",
              "        [ True,  True,  True],\n",
              "        [ True,  True,  True],\n",
              "        [ True,  True,  True]]])>"
            ]
          },
          "metadata": {},
          "execution_count": 15
        }
      ]
    },
    {
      "cell_type": "code",
      "source": [
        "# https://www.tensorflow.org/api_docs/python/tf/random/set_seed"
      ],
      "metadata": {
        "id": "YmiUzRUqD8nD"
      },
      "execution_count": null,
      "outputs": []
    },
    {
      "cell_type": "code",
      "source": [
        "k = tf.random.normal(shape=(3,3,2), mean=0, stddev=5)\n",
        "i = tf.random.uniform(shape=(3,3,3), minval=0, maxval=10, dtype=tf.int32)"
      ],
      "metadata": {
        "id": "-EvwoWBDgYvb"
      },
      "execution_count": null,
      "outputs": []
    },
    {
      "cell_type": "markdown",
      "source": [
        "#I19\n",
        "\n",
        "* Shuffle tensors"
      ],
      "metadata": {
        "id": "KahYlasSiPg9"
      }
    },
    {
      "cell_type": "code",
      "source": [
        "tensor_x = tf.random.uniform(shape=(3,3,3), minval= 5, maxval=10, dtype=tf.int32)\n",
        "tensor_x"
      ],
      "metadata": {
        "colab": {
          "base_uri": "https://localhost:8080/"
        },
        "id": "cxfBf198iXUH",
        "outputId": "2d4b78b8-d2dc-4745-8c68-c9d85cc04f03"
      },
      "execution_count": null,
      "outputs": [
        {
          "output_type": "execute_result",
          "data": {
            "text/plain": [
              "<tf.Tensor: shape=(3, 3, 3), dtype=int32, numpy=\n",
              "array([[[5, 5, 9],\n",
              "        [8, 9, 5],\n",
              "        [5, 8, 7]],\n",
              "\n",
              "       [[8, 5, 8],\n",
              "        [5, 6, 5],\n",
              "        [8, 6, 7]],\n",
              "\n",
              "       [[5, 8, 6],\n",
              "        [8, 6, 5],\n",
              "        [9, 8, 6]]], dtype=int32)>"
            ]
          },
          "metadata": {},
          "execution_count": 18
        }
      ]
    },
    {
      "cell_type": "code",
      "source": [
        "shuffled_tensor = tf.random.shuffle(tensor_x)\n",
        "shuffled_tensor"
      ],
      "metadata": {
        "colab": {
          "base_uri": "https://localhost:8080/"
        },
        "id": "zfBsvCJei2a2",
        "outputId": "f8c356f1-a6b4-4427-ef63-cc84be115d49"
      },
      "execution_count": null,
      "outputs": [
        {
          "output_type": "execute_result",
          "data": {
            "text/plain": [
              "<tf.Tensor: shape=(3, 3, 3), dtype=int32, numpy=\n",
              "array([[[5, 5, 9],\n",
              "        [8, 9, 5],\n",
              "        [5, 8, 7]],\n",
              "\n",
              "       [[8, 5, 8],\n",
              "        [5, 6, 5],\n",
              "        [8, 6, 7]],\n",
              "\n",
              "       [[5, 8, 6],\n",
              "        [8, 6, 5],\n",
              "        [9, 8, 6]]], dtype=int32)>"
            ]
          },
          "metadata": {},
          "execution_count": 19
        }
      ]
    },
    {
      "cell_type": "markdown",
      "source": [
        "#I20"
      ],
      "metadata": {
        "id": "XYUNmB3KCvYM"
      }
    },
    {
      "cell_type": "code",
      "source": [
        "ones = tf.ones((10,7), dtype=tf.int32)\n",
        "ones"
      ],
      "metadata": {
        "colab": {
          "base_uri": "https://localhost:8080/"
        },
        "id": "9XWIZVEBCxxM",
        "outputId": "234150cc-4ca6-410c-b992-2a61d236510b"
      },
      "execution_count": null,
      "outputs": [
        {
          "output_type": "execute_result",
          "data": {
            "text/plain": [
              "<tf.Tensor: shape=(10, 7), dtype=int32, numpy=\n",
              "array([[1, 1, 1, 1, 1, 1, 1],\n",
              "       [1, 1, 1, 1, 1, 1, 1],\n",
              "       [1, 1, 1, 1, 1, 1, 1],\n",
              "       [1, 1, 1, 1, 1, 1, 1],\n",
              "       [1, 1, 1, 1, 1, 1, 1],\n",
              "       [1, 1, 1, 1, 1, 1, 1],\n",
              "       [1, 1, 1, 1, 1, 1, 1],\n",
              "       [1, 1, 1, 1, 1, 1, 1],\n",
              "       [1, 1, 1, 1, 1, 1, 1],\n",
              "       [1, 1, 1, 1, 1, 1, 1]], dtype=int32)>"
            ]
          },
          "metadata": {},
          "execution_count": 20
        }
      ]
    },
    {
      "cell_type": "markdown",
      "source": [
        "* The difference between a tensor and numpy array is tensor can run on GPU\n"
      ],
      "metadata": {
        "id": "QOerYb7wEZ9C"
      }
    },
    {
      "cell_type": "code",
      "source": [
        "# convert numpy array to tensor\n",
        "\n",
        "import numpy as np\n",
        "\n",
        "np_array = np.arange(1,25, dtype=np.int32)\n",
        "np_array"
      ],
      "metadata": {
        "colab": {
          "base_uri": "https://localhost:8080/"
        },
        "id": "aQMUjY6JEY9P",
        "outputId": "3e8c355b-0fd9-4d55-f402-f62df56f628d"
      },
      "execution_count": null,
      "outputs": [
        {
          "output_type": "execute_result",
          "data": {
            "text/plain": [
              "array([ 1,  2,  3,  4,  5,  6,  7,  8,  9, 10, 11, 12, 13, 14, 15, 16, 17,\n",
              "       18, 19, 20, 21, 22, 23, 24], dtype=int32)"
            ]
          },
          "metadata": {},
          "execution_count": 21
        }
      ]
    },
    {
      "cell_type": "code",
      "source": [
        "h = tf.constant(np_array, shape=(3,2,4))\n",
        "h"
      ],
      "metadata": {
        "colab": {
          "base_uri": "https://localhost:8080/"
        },
        "id": "W0HW6_KyE7WE",
        "outputId": "e3155dec-e334-4d04-c8b2-6e4308963cff"
      },
      "execution_count": null,
      "outputs": [
        {
          "output_type": "execute_result",
          "data": {
            "text/plain": [
              "<tf.Tensor: shape=(3, 2, 4), dtype=int32, numpy=\n",
              "array([[[ 1,  2,  3,  4],\n",
              "        [ 5,  6,  7,  8]],\n",
              "\n",
              "       [[ 9, 10, 11, 12],\n",
              "        [13, 14, 15, 16]],\n",
              "\n",
              "       [[17, 18, 19, 20],\n",
              "        [21, 22, 23, 24]]], dtype=int32)>"
            ]
          },
          "metadata": {},
          "execution_count": 22
        }
      ]
    },
    {
      "cell_type": "markdown",
      "source": [
        "#I21"
      ],
      "metadata": {
        "id": "tO2am2oFzxAH"
      }
    },
    {
      "cell_type": "code",
      "source": [
        "#gettting information from tensors\n",
        "\n",
        "xx = tf.random.uniform(shape=(2,3,4,5), minval=0, maxval=(10), dtype=tf.int32)\n",
        "xx"
      ],
      "metadata": {
        "colab": {
          "base_uri": "https://localhost:8080/"
        },
        "id": "GwFzV23hzyzs",
        "outputId": "29dee791-b95f-4d35-b4a0-bfa83ef8f151"
      },
      "execution_count": null,
      "outputs": [
        {
          "output_type": "execute_result",
          "data": {
            "text/plain": [
              "<tf.Tensor: shape=(2, 3, 4, 5), dtype=int32, numpy=\n",
              "array([[[[7, 7, 1, 2, 3],\n",
              "         [8, 4, 1, 2, 5],\n",
              "         [0, 5, 9, 2, 8],\n",
              "         [6, 7, 6, 4, 1]],\n",
              "\n",
              "        [[3, 1, 4, 6, 7],\n",
              "         [7, 1, 0, 1, 5],\n",
              "         [3, 9, 5, 9, 3],\n",
              "         [6, 3, 5, 0, 6]],\n",
              "\n",
              "        [[6, 2, 1, 6, 5],\n",
              "         [7, 8, 9, 4, 8],\n",
              "         [5, 1, 8, 1, 7],\n",
              "         [0, 2, 3, 0, 2]]],\n",
              "\n",
              "\n",
              "       [[[0, 9, 2, 1, 6],\n",
              "         [5, 1, 4, 2, 8],\n",
              "         [0, 7, 2, 9, 0],\n",
              "         [2, 9, 2, 6, 4]],\n",
              "\n",
              "        [[3, 3, 1, 4, 8],\n",
              "         [0, 4, 9, 9, 5],\n",
              "         [2, 5, 7, 6, 8],\n",
              "         [2, 2, 9, 5, 0]],\n",
              "\n",
              "        [[0, 9, 4, 7, 3],\n",
              "         [9, 6, 6, 2, 2],\n",
              "         [8, 9, 6, 5, 6],\n",
              "         [9, 2, 8, 0, 2]]]], dtype=int32)>"
            ]
          },
          "metadata": {},
          "execution_count": 23
        }
      ]
    },
    {
      "cell_type": "code",
      "source": [
        "xx.shape, xx.ndim, tf.size(xx)"
      ],
      "metadata": {
        "colab": {
          "base_uri": "https://localhost:8080/"
        },
        "id": "TN1UCAeb0YW_",
        "outputId": "a71c437b-0c7c-4034-ec24-1b4683f78f0d"
      },
      "execution_count": null,
      "outputs": [
        {
          "output_type": "execute_result",
          "data": {
            "text/plain": [
              "(TensorShape([2, 3, 4, 5]), 4, <tf.Tensor: shape=(), dtype=int32, numpy=120>)"
            ]
          },
          "metadata": {},
          "execution_count": 24
        }
      ]
    },
    {
      "cell_type": "code",
      "source": [
        "dtype = f'Data type of tensor elements:{xx.dtype}'\n",
        "shape = f'Shape of the tensor is: {xx.shape}'\n",
        "elem = f'Total elements of the tensor: {tf.size(xx).numpy()} '\n",
        "ndim = f'Number of Dimensions: {xx.ndim}'\n",
        "elem_1st = f'Element of 1st index:{xx.shape[0]}'\n",
        "elem_last = f'Element of 1st index:{xx.shape[-1]}'\n"
      ],
      "metadata": {
        "id": "H3KXnUcl0i2z"
      },
      "execution_count": null,
      "outputs": []
    },
    {
      "cell_type": "code",
      "source": [
        "print(dtype)\n",
        "print(shape)\n",
        "print(elem)\n",
        "print(ndim)\n",
        "print(elem_1st)\n",
        "print(elem_last)"
      ],
      "metadata": {
        "colab": {
          "base_uri": "https://localhost:8080/"
        },
        "id": "GI_Z3p1k0eSb",
        "outputId": "0a5493e3-76a1-4208-e27d-0b3ef1203c8b"
      },
      "execution_count": null,
      "outputs": [
        {
          "output_type": "stream",
          "name": "stdout",
          "text": [
            "Data type of tensor elements:<dtype: 'int32'>\n",
            "Shape of the tensor is: (2, 3, 4, 5)\n",
            "Total elements of the tensor: 120 \n",
            "Number of Dimensions: 4\n",
            "Element of 1st index:2\n",
            "Element of 1st index:5\n"
          ]
        }
      ]
    },
    {
      "cell_type": "markdown",
      "source": [
        "#I21"
      ],
      "metadata": {
        "id": "bXKRk1a94Z77"
      }
    },
    {
      "cell_type": "code",
      "source": [
        "# indexing tensors\n",
        "\n",
        "a =tf.ones(shape=(4,4,4,4), dtype=tf.int32)\n",
        "a"
      ],
      "metadata": {
        "colab": {
          "base_uri": "https://localhost:8080/"
        },
        "collapsed": true,
        "id": "4ZXuNuNF0bpa",
        "outputId": "55fbc806-be13-4679-efff-90390fdd60bd"
      },
      "execution_count": null,
      "outputs": [
        {
          "output_type": "execute_result",
          "data": {
            "text/plain": [
              "<tf.Tensor: shape=(4, 4, 4, 4), dtype=int32, numpy=\n",
              "array([[[[1, 1, 1, 1],\n",
              "         [1, 1, 1, 1],\n",
              "         [1, 1, 1, 1],\n",
              "         [1, 1, 1, 1]],\n",
              "\n",
              "        [[1, 1, 1, 1],\n",
              "         [1, 1, 1, 1],\n",
              "         [1, 1, 1, 1],\n",
              "         [1, 1, 1, 1]],\n",
              "\n",
              "        [[1, 1, 1, 1],\n",
              "         [1, 1, 1, 1],\n",
              "         [1, 1, 1, 1],\n",
              "         [1, 1, 1, 1]],\n",
              "\n",
              "        [[1, 1, 1, 1],\n",
              "         [1, 1, 1, 1],\n",
              "         [1, 1, 1, 1],\n",
              "         [1, 1, 1, 1]]],\n",
              "\n",
              "\n",
              "       [[[1, 1, 1, 1],\n",
              "         [1, 1, 1, 1],\n",
              "         [1, 1, 1, 1],\n",
              "         [1, 1, 1, 1]],\n",
              "\n",
              "        [[1, 1, 1, 1],\n",
              "         [1, 1, 1, 1],\n",
              "         [1, 1, 1, 1],\n",
              "         [1, 1, 1, 1]],\n",
              "\n",
              "        [[1, 1, 1, 1],\n",
              "         [1, 1, 1, 1],\n",
              "         [1, 1, 1, 1],\n",
              "         [1, 1, 1, 1]],\n",
              "\n",
              "        [[1, 1, 1, 1],\n",
              "         [1, 1, 1, 1],\n",
              "         [1, 1, 1, 1],\n",
              "         [1, 1, 1, 1]]],\n",
              "\n",
              "\n",
              "       [[[1, 1, 1, 1],\n",
              "         [1, 1, 1, 1],\n",
              "         [1, 1, 1, 1],\n",
              "         [1, 1, 1, 1]],\n",
              "\n",
              "        [[1, 1, 1, 1],\n",
              "         [1, 1, 1, 1],\n",
              "         [1, 1, 1, 1],\n",
              "         [1, 1, 1, 1]],\n",
              "\n",
              "        [[1, 1, 1, 1],\n",
              "         [1, 1, 1, 1],\n",
              "         [1, 1, 1, 1],\n",
              "         [1, 1, 1, 1]],\n",
              "\n",
              "        [[1, 1, 1, 1],\n",
              "         [1, 1, 1, 1],\n",
              "         [1, 1, 1, 1],\n",
              "         [1, 1, 1, 1]]],\n",
              "\n",
              "\n",
              "       [[[1, 1, 1, 1],\n",
              "         [1, 1, 1, 1],\n",
              "         [1, 1, 1, 1],\n",
              "         [1, 1, 1, 1]],\n",
              "\n",
              "        [[1, 1, 1, 1],\n",
              "         [1, 1, 1, 1],\n",
              "         [1, 1, 1, 1],\n",
              "         [1, 1, 1, 1]],\n",
              "\n",
              "        [[1, 1, 1, 1],\n",
              "         [1, 1, 1, 1],\n",
              "         [1, 1, 1, 1],\n",
              "         [1, 1, 1, 1]],\n",
              "\n",
              "        [[1, 1, 1, 1],\n",
              "         [1, 1, 1, 1],\n",
              "         [1, 1, 1, 1],\n",
              "         [1, 1, 1, 1]]]], dtype=int32)>"
            ]
          },
          "metadata": {},
          "execution_count": 35
        }
      ]
    },
    {
      "cell_type": "code",
      "source": [
        "#get first 2 elements\n",
        "a[:2,:2,:2,:2]"
      ],
      "metadata": {
        "colab": {
          "base_uri": "https://localhost:8080/"
        },
        "id": "O-dLivRS0WUU",
        "outputId": "76038448-a953-44a7-f854-cfd2c33a01cb"
      },
      "execution_count": null,
      "outputs": [
        {
          "output_type": "execute_result",
          "data": {
            "text/plain": [
              "<tf.Tensor: shape=(2, 2, 2, 2), dtype=int32, numpy=\n",
              "array([[[[1, 1],\n",
              "         [1, 1]],\n",
              "\n",
              "        [[1, 1],\n",
              "         [1, 1]]],\n",
              "\n",
              "\n",
              "       [[[1, 1],\n",
              "         [1, 1]],\n",
              "\n",
              "        [[1, 1],\n",
              "         [1, 1]]]], dtype=int32)>"
            ]
          },
          "metadata": {},
          "execution_count": 36
        }
      ]
    },
    {
      "cell_type": "code",
      "source": [
        "#a[:,:,:,:]\n",
        "\n",
        "a[:1,:,:,:]"
      ],
      "metadata": {
        "colab": {
          "base_uri": "https://localhost:8080/"
        },
        "id": "u_XlXiNgB4kh",
        "outputId": "df78c90d-87c8-4a1a-c71f-f30376e231a5"
      },
      "execution_count": null,
      "outputs": [
        {
          "output_type": "execute_result",
          "data": {
            "text/plain": [
              "<tf.Tensor: shape=(1, 4, 4, 4), dtype=int32, numpy=\n",
              "array([[[[1, 1, 1, 1],\n",
              "         [1, 1, 1, 1],\n",
              "         [1, 1, 1, 1],\n",
              "         [1, 1, 1, 1]],\n",
              "\n",
              "        [[1, 1, 1, 1],\n",
              "         [1, 1, 1, 1],\n",
              "         [1, 1, 1, 1],\n",
              "         [1, 1, 1, 1]],\n",
              "\n",
              "        [[1, 1, 1, 1],\n",
              "         [1, 1, 1, 1],\n",
              "         [1, 1, 1, 1],\n",
              "         [1, 1, 1, 1]],\n",
              "\n",
              "        [[1, 1, 1, 1],\n",
              "         [1, 1, 1, 1],\n",
              "         [1, 1, 1, 1],\n",
              "         [1, 1, 1, 1]]]], dtype=int32)>"
            ]
          },
          "metadata": {},
          "execution_count": 42
        }
      ]
    },
    {
      "cell_type": "code",
      "source": [
        "rank_2 = tf.constant([[1,2,3],[4,5,6]])\n",
        "rank_2"
      ],
      "metadata": {
        "colab": {
          "base_uri": "https://localhost:8080/"
        },
        "id": "HqztCIqSCj32",
        "outputId": "b29baf54-82ad-4763-f7e7-5920f952608a"
      },
      "execution_count": null,
      "outputs": [
        {
          "output_type": "execute_result",
          "data": {
            "text/plain": [
              "<tf.Tensor: shape=(2, 3), dtype=int32, numpy=\n",
              "array([[1, 2, 3],\n",
              "       [4, 5, 6]], dtype=int32)>"
            ]
          },
          "metadata": {},
          "execution_count": 43
        }
      ]
    },
    {
      "cell_type": "code",
      "source": [
        "rank_2[:,-1]"
      ],
      "metadata": {
        "colab": {
          "base_uri": "https://localhost:8080/"
        },
        "id": "yzhubl4tC55i",
        "outputId": "0ca4cd03-6b90-44f9-f691-5fee6a2df1f0"
      },
      "execution_count": null,
      "outputs": [
        {
          "output_type": "execute_result",
          "data": {
            "text/plain": [
              "<tf.Tensor: shape=(2,), dtype=int32, numpy=array([3, 6], dtype=int32)>"
            ]
          },
          "metadata": {},
          "execution_count": 49
        }
      ]
    },
    {
      "cell_type": "code",
      "source": [
        "# adding dimesion to the tensor\n",
        "\n",
        "rank_3 = rank_2[..., tf.newaxis]\n",
        "rank_3"
      ],
      "metadata": {
        "colab": {
          "base_uri": "https://localhost:8080/"
        },
        "id": "VK0hhAfqDq-E",
        "outputId": "6ad7b8f2-d2e3-47ca-9a0d-18e236e99b46"
      },
      "execution_count": null,
      "outputs": [
        {
          "output_type": "execute_result",
          "data": {
            "text/plain": [
              "<tf.Tensor: shape=(2, 3, 1), dtype=int32, numpy=\n",
              "array([[[1],\n",
              "        [2],\n",
              "        [3]],\n",
              "\n",
              "       [[4],\n",
              "        [5],\n",
              "        [6]]], dtype=int32)>"
            ]
          },
          "metadata": {},
          "execution_count": 52
        }
      ]
    },
    {
      "cell_type": "code",
      "source": [
        "# alternativa way\n",
        "\n",
        "tf.expand_dims(rank_2, -1) # -1 means expand after the last axis, more like how an index works"
      ],
      "metadata": {
        "colab": {
          "base_uri": "https://localhost:8080/"
        },
        "id": "lW3U_D8VEdGX",
        "outputId": "79a07917-9c93-48cd-9726-fceb03dff01e"
      },
      "execution_count": null,
      "outputs": [
        {
          "output_type": "execute_result",
          "data": {
            "text/plain": [
              "<tf.Tensor: shape=(2, 3, 1), dtype=int32, numpy=\n",
              "array([[[1],\n",
              "        [2],\n",
              "        [3]],\n",
              "\n",
              "       [[4],\n",
              "        [5],\n",
              "        [6]]], dtype=int32)>"
            ]
          },
          "metadata": {},
          "execution_count": 54
        }
      ]
    },
    {
      "cell_type": "markdown",
      "source": [
        "#I22 Tensor Operations"
      ],
      "metadata": {
        "id": "ziwVi4hbFNeG"
      }
    },
    {
      "cell_type": "code",
      "source": [
        "a = tf.random.uniform(shape=(4,3), minval=1, maxval=4, dtype=tf.int32)\n",
        "b = tf.random.uniform(shape=(4,3), minval=5, maxval=6, dtype=tf.int32)\n",
        "a,b"
      ],
      "metadata": {
        "colab": {
          "base_uri": "https://localhost:8080/"
        },
        "id": "_2YfZ7waFQJO",
        "outputId": "586bea69-753d-4a2e-f473-0f60da662901"
      },
      "execution_count": null,
      "outputs": [
        {
          "output_type": "execute_result",
          "data": {
            "text/plain": [
              "(<tf.Tensor: shape=(4, 3), dtype=int32, numpy=\n",
              " array([[3, 3, 2],\n",
              "        [1, 1, 2],\n",
              "        [2, 1, 3],\n",
              "        [2, 1, 2]], dtype=int32)>,\n",
              " <tf.Tensor: shape=(4, 3), dtype=int32, numpy=\n",
              " array([[5, 5, 5],\n",
              "        [5, 5, 5],\n",
              "        [5, 5, 5],\n",
              "        [5, 5, 5]], dtype=int32)>)"
            ]
          },
          "metadata": {},
          "execution_count": 61
        }
      ]
    },
    {
      "cell_type": "code",
      "source": [
        "tf.add(a,b)"
      ],
      "metadata": {
        "colab": {
          "base_uri": "https://localhost:8080/"
        },
        "id": "uWxlESN8HSK4",
        "outputId": "9f393c0c-aa6b-4527-968d-2f24d9ce284d"
      },
      "execution_count": null,
      "outputs": [
        {
          "output_type": "execute_result",
          "data": {
            "text/plain": [
              "<tf.Tensor: shape=(4, 3), dtype=int32, numpy=\n",
              "array([[8, 8, 7],\n",
              "       [6, 6, 7],\n",
              "       [7, 6, 8],\n",
              "       [7, 6, 7]], dtype=int32)>"
            ]
          },
          "metadata": {},
          "execution_count": 62
        }
      ]
    },
    {
      "cell_type": "code",
      "source": [
        "tf.subtract(a,b)"
      ],
      "metadata": {
        "colab": {
          "base_uri": "https://localhost:8080/"
        },
        "id": "LNpujrIdHZAK",
        "outputId": "0260ae0f-e6fa-4427-efd5-071922ce2483"
      },
      "execution_count": null,
      "outputs": [
        {
          "output_type": "execute_result",
          "data": {
            "text/plain": [
              "<tf.Tensor: shape=(4, 3), dtype=int32, numpy=\n",
              "array([[-2, -2, -3],\n",
              "       [-4, -4, -3],\n",
              "       [-3, -4, -2],\n",
              "       [-3, -4, -3]], dtype=int32)>"
            ]
          },
          "metadata": {},
          "execution_count": 63
        }
      ]
    },
    {
      "cell_type": "code",
      "source": [
        "tf.multiply(a,b)"
      ],
      "metadata": {
        "colab": {
          "base_uri": "https://localhost:8080/"
        },
        "id": "LKu6qS0vHcVf",
        "outputId": "2422c36a-aaf1-4214-b3b7-96948981bd64"
      },
      "execution_count": null,
      "outputs": [
        {
          "output_type": "execute_result",
          "data": {
            "text/plain": [
              "<tf.Tensor: shape=(4, 3), dtype=int32, numpy=\n",
              "array([[15, 15, 10],\n",
              "       [ 5,  5, 10],\n",
              "       [10,  5, 15],\n",
              "       [10,  5, 10]], dtype=int32)>"
            ]
          },
          "metadata": {},
          "execution_count": 64
        }
      ]
    },
    {
      "cell_type": "code",
      "source": [
        "tf.math.divide(b,a)"
      ],
      "metadata": {
        "colab": {
          "base_uri": "https://localhost:8080/"
        },
        "id": "02G9c_U4Hfg1",
        "outputId": "b52645f9-ea01-4a94-8ddd-35b15885b926"
      },
      "execution_count": null,
      "outputs": [
        {
          "output_type": "execute_result",
          "data": {
            "text/plain": [
              "<tf.Tensor: shape=(4, 3), dtype=float64, numpy=\n",
              "array([[1.66666667, 1.66666667, 2.5       ],\n",
              "       [5.        , 5.        , 2.5       ],\n",
              "       [2.5       , 5.        , 1.66666667],\n",
              "       [2.5       , 5.        , 2.5       ]])>"
            ]
          },
          "metadata": {},
          "execution_count": 69
        }
      ]
    },
    {
      "cell_type": "code",
      "source": [
        "a = tf.random.uniform(shape=(4,3), minval=1, maxval=4, dtype=tf.int32)\n",
        "b = tf.random.uniform(shape=(3,4), minval=10, maxval=20, dtype=tf.int32)\n",
        "a,b"
      ],
      "metadata": {
        "colab": {
          "base_uri": "https://localhost:8080/"
        },
        "id": "eOsHlv2KHvsD",
        "outputId": "3996a700-ceca-4eb5-fdbf-ba87afd556cf"
      },
      "execution_count": null,
      "outputs": [
        {
          "output_type": "execute_result",
          "data": {
            "text/plain": [
              "(<tf.Tensor: shape=(4, 3), dtype=int32, numpy=\n",
              " array([[1, 2, 1],\n",
              "        [1, 1, 2],\n",
              "        [1, 2, 1],\n",
              "        [1, 3, 3]], dtype=int32)>,\n",
              " <tf.Tensor: shape=(3, 4), dtype=int32, numpy=\n",
              " array([[19, 14, 19, 13],\n",
              "        [13, 18, 10, 17],\n",
              "        [10, 12, 18, 19]], dtype=int32)>)"
            ]
          },
          "metadata": {},
          "execution_count": 75
        }
      ]
    },
    {
      "cell_type": "code",
      "source": [
        "tf.matmul(a,b)"
      ],
      "metadata": {
        "colab": {
          "base_uri": "https://localhost:8080/"
        },
        "id": "EE5Nv1YKH7dX",
        "outputId": "c4a20df6-50e2-4480-dee0-9188ca5e003f"
      },
      "execution_count": null,
      "outputs": [
        {
          "output_type": "execute_result",
          "data": {
            "text/plain": [
              "<tf.Tensor: shape=(4, 4), dtype=int32, numpy=\n",
              "array([[ 55,  62,  57,  66],\n",
              "       [ 52,  56,  65,  68],\n",
              "       [ 55,  62,  57,  66],\n",
              "       [ 88, 104, 103, 121]], dtype=int32)>"
            ]
          },
          "metadata": {},
          "execution_count": 76
        }
      ]
    },
    {
      "cell_type": "markdown",
      "source": [
        "#I26\n"
      ],
      "metadata": {
        "id": "sMjq2SVibs5_"
      }
    },
    {
      "cell_type": "code",
      "source": [
        "#matrix multiplication and dot product is the same this. can be done by tf.matmul and tf.tensordot"
      ],
      "metadata": {
        "id": "qrLZuyWwbwNf"
      },
      "execution_count": null,
      "outputs": []
    },
    {
      "cell_type": "code",
      "source": [
        "tf.cast(a,tf.float32)"
      ],
      "metadata": {
        "colab": {
          "base_uri": "https://localhost:8080/"
        },
        "id": "_7xznZEZcIpl",
        "outputId": "95b0e980-fc99-4d54-dc63-6dfaa6fc517a"
      },
      "execution_count": null,
      "outputs": [
        {
          "output_type": "execute_result",
          "data": {
            "text/plain": [
              "<tf.Tensor: shape=(4, 3), dtype=float32, numpy=\n",
              "array([[1., 2., 1.],\n",
              "       [1., 1., 2.],\n",
              "       [1., 2., 1.],\n",
              "       [1., 3., 3.]], dtype=float32)>"
            ]
          },
          "metadata": {},
          "execution_count": 79
        }
      ]
    },
    {
      "cell_type": "markdown",
      "source": [
        "#I28\n",
        "tensor aggregation"
      ],
      "metadata": {
        "id": "R8-CcSYBg_nA"
      }
    },
    {
      "cell_type": "code",
      "source": [
        "a = tf.random.uniform((5,5,2),-100,100, tf.int32)"
      ],
      "metadata": {
        "id": "YFKMkcRhg-dV"
      },
      "execution_count": null,
      "outputs": []
    },
    {
      "cell_type": "code",
      "source": [
        "a"
      ],
      "metadata": {
        "colab": {
          "base_uri": "https://localhost:8080/"
        },
        "id": "2cFmDaW4ntkm",
        "outputId": "a75714a2-06f3-4eb0-8033-90f84507a7b0"
      },
      "execution_count": null,
      "outputs": [
        {
          "output_type": "execute_result",
          "data": {
            "text/plain": [
              "<tf.Tensor: shape=(5, 5, 2), dtype=int32, numpy=\n",
              "array([[[-66, -87],\n",
              "        [-97,  44],\n",
              "        [ 54,  46],\n",
              "        [ 98, -68],\n",
              "        [ 35,  94]],\n",
              "\n",
              "       [[ 64,  18],\n",
              "        [ 49,  45],\n",
              "        [-46, -22],\n",
              "        [-50,   8],\n",
              "        [ 52,  57]],\n",
              "\n",
              "       [[-92,  43],\n",
              "        [-62, -69],\n",
              "        [-19,  22],\n",
              "        [-18, -78],\n",
              "        [ 30, -18]],\n",
              "\n",
              "       [[-62,  90],\n",
              "        [-13, -68],\n",
              "        [-64, -74],\n",
              "        [-79,  39],\n",
              "        [  5,  15]],\n",
              "\n",
              "       [[ 59,  61],\n",
              "        [-92,   9],\n",
              "        [ 29, -75],\n",
              "        [ 24,  62],\n",
              "        [ 30,  36]]], dtype=int32)>"
            ]
          },
          "metadata": {},
          "execution_count": 85
        }
      ]
    },
    {
      "cell_type": "code",
      "source": [
        "tf.reduce_min(a).numpy()"
      ],
      "metadata": {
        "colab": {
          "base_uri": "https://localhost:8080/"
        },
        "id": "66-pq1OEoBgQ",
        "outputId": "a50bdd11-1d65-4eb0-f009-fecebc04d219"
      },
      "execution_count": null,
      "outputs": [
        {
          "output_type": "execute_result",
          "data": {
            "text/plain": [
              "-97"
            ]
          },
          "metadata": {},
          "execution_count": 88
        }
      ]
    },
    {
      "cell_type": "code",
      "source": [
        "tf.reduce_max(a).numpy()"
      ],
      "metadata": {
        "colab": {
          "base_uri": "https://localhost:8080/"
        },
        "id": "2JlE5gTQoM8H",
        "outputId": "2ebe0de8-bf5e-43eb-b5a5-8ba7bb3b866e"
      },
      "execution_count": null,
      "outputs": [
        {
          "output_type": "execute_result",
          "data": {
            "text/plain": [
              "98"
            ]
          },
          "metadata": {},
          "execution_count": 89
        }
      ]
    },
    {
      "cell_type": "code",
      "source": [
        "tf.reduce_sum(a).numpy()"
      ],
      "metadata": {
        "colab": {
          "base_uri": "https://localhost:8080/"
        },
        "id": "-uiqsPVRoXZT",
        "outputId": "52282737-28ab-422e-ea08-4109d46b1c49"
      },
      "execution_count": null,
      "outputs": [
        {
          "output_type": "execute_result",
          "data": {
            "text/plain": [
              "-101"
            ]
          },
          "metadata": {},
          "execution_count": 91
        }
      ]
    },
    {
      "cell_type": "code",
      "source": [
        "tf.reduce_mean(a).numpy()"
      ],
      "metadata": {
        "colab": {
          "base_uri": "https://localhost:8080/"
        },
        "id": "r7KPfNCkoc8P",
        "outputId": "9ac45ea7-33a0-447a-eb20-438b3e1448e8"
      },
      "execution_count": null,
      "outputs": [
        {
          "output_type": "execute_result",
          "data": {
            "text/plain": [
              "-2"
            ]
          },
          "metadata": {},
          "execution_count": 92
        }
      ]
    },
    {
      "cell_type": "code",
      "source": [
        "import tensorflow_probability as tfp\n",
        "\n",
        "tfp.stats.variance(a)"
      ],
      "metadata": {
        "colab": {
          "base_uri": "https://localhost:8080/"
        },
        "id": "hOvl_IKgouWV",
        "outputId": "a2129f0f-37a0-4684-c5c7-4784c3d908ab"
      },
      "execution_count": null,
      "outputs": [
        {
          "output_type": "execute_result",
          "data": {
            "text/plain": [
              "<tf.Tensor: shape=(5, 2), dtype=int32, numpy=\n",
              "array([[4472, 3687],\n",
              "       [3008, 2625],\n",
              "       [1981, 2413],\n",
              "       [3824, 3172],\n",
              "       [ 226, 1432]], dtype=int32)>"
            ]
          },
          "metadata": {},
          "execution_count": 105
        }
      ]
    },
    {
      "cell_type": "code",
      "source": [
        "tf.math.reduce_std(tf.cast(a, dtype=tf.float32)).numpy()"
      ],
      "metadata": {
        "colab": {
          "base_uri": "https://localhost:8080/"
        },
        "id": "FbkVmdWCrYAq",
        "outputId": "fe12f545-013b-4b9a-c150-1b8ee32d9308"
      },
      "execution_count": null,
      "outputs": [
        {
          "output_type": "execute_result",
          "data": {
            "text/plain": [
              "57.078014"
            ]
          },
          "metadata": {},
          "execution_count": 111
        }
      ]
    },
    {
      "cell_type": "markdown",
      "source": [
        "#I30"
      ],
      "metadata": {
        "id": "YKWAFym2Bou9"
      }
    },
    {
      "cell_type": "code",
      "source": [
        "a = tf.random.uniform(shape=(50,))\n",
        "a"
      ],
      "metadata": {
        "colab": {
          "base_uri": "https://localhost:8080/"
        },
        "id": "yvETkfw5Br2x",
        "outputId": "f9849941-528e-4c07-a38b-2fc0758e70d6"
      },
      "execution_count": null,
      "outputs": [
        {
          "output_type": "execute_result",
          "data": {
            "text/plain": [
              "<tf.Tensor: shape=(50,), dtype=float32, numpy=\n",
              "array([0.08768284, 0.74540865, 0.46303844, 0.14600766, 0.561772  ,\n",
              "       0.81475127, 0.18903613, 0.5560175 , 0.04541171, 0.62687063,\n",
              "       0.4405023 , 0.9856678 , 0.49009693, 0.24487984, 0.9664035 ,\n",
              "       0.92918646, 0.06977832, 0.03811133, 0.38063312, 0.5637702 ,\n",
              "       0.9253726 , 0.46238363, 0.34515905, 0.3612827 , 0.29746342,\n",
              "       0.00248539, 0.08106339, 0.5953771 , 0.30756843, 0.7440295 ,\n",
              "       0.9974184 , 0.03821397, 0.8739848 , 0.9444525 , 0.5707704 ,\n",
              "       0.8002852 , 0.8174851 , 0.75485694, 0.2705642 , 0.19348502,\n",
              "       0.93062365, 0.80915177, 0.22638845, 0.5953282 , 0.6443833 ,\n",
              "       0.42809117, 0.7325579 , 0.98225677, 0.00268722, 0.07721317],\n",
              "      dtype=float32)>"
            ]
          },
          "metadata": {},
          "execution_count": 2
        }
      ]
    },
    {
      "cell_type": "code",
      "source": [
        "tf.argmax(a)"
      ],
      "metadata": {
        "colab": {
          "base_uri": "https://localhost:8080/"
        },
        "id": "b0I4cHl3B0-X",
        "outputId": "0661e61e-96f4-4e35-be2c-a2c360875c62"
      },
      "execution_count": null,
      "outputs": [
        {
          "output_type": "execute_result",
          "data": {
            "text/plain": [
              "<tf.Tensor: shape=(), dtype=int64, numpy=30>"
            ]
          },
          "metadata": {},
          "execution_count": 3
        }
      ]
    },
    {
      "cell_type": "code",
      "source": [
        "a[tf.argmax(a)]"
      ],
      "metadata": {
        "colab": {
          "base_uri": "https://localhost:8080/"
        },
        "id": "AuS54Z04B5pO",
        "outputId": "89d83055-7b35-40f2-f86d-a65f04b24ed2"
      },
      "execution_count": null,
      "outputs": [
        {
          "output_type": "execute_result",
          "data": {
            "text/plain": [
              "<tf.Tensor: shape=(), dtype=float32, numpy=0.9974184>"
            ]
          },
          "metadata": {},
          "execution_count": 4
        }
      ]
    },
    {
      "cell_type": "code",
      "source": [
        "tf.argmin(a)"
      ],
      "metadata": {
        "colab": {
          "base_uri": "https://localhost:8080/"
        },
        "id": "D8Z9s77mCAoE",
        "outputId": "2f1c8c3f-c873-4323-95c9-9d5486507c37"
      },
      "execution_count": null,
      "outputs": [
        {
          "output_type": "execute_result",
          "data": {
            "text/plain": [
              "<tf.Tensor: shape=(), dtype=int64, numpy=25>"
            ]
          },
          "metadata": {},
          "execution_count": 5
        }
      ]
    },
    {
      "cell_type": "code",
      "source": [
        "a[tf.argmin(a)]"
      ],
      "metadata": {
        "colab": {
          "base_uri": "https://localhost:8080/"
        },
        "id": "Yc79eFbUCEeZ",
        "outputId": "f67674e4-e50d-4ed6-f6e2-90782909e6d1"
      },
      "execution_count": null,
      "outputs": [
        {
          "output_type": "execute_result",
          "data": {
            "text/plain": [
              "<tf.Tensor: shape=(), dtype=float32, numpy=0.0024853945>"
            ]
          },
          "metadata": {},
          "execution_count": 6
        }
      ]
    },
    {
      "cell_type": "code",
      "source": [
        "b= tf.random.uniform(shape=(3,3,3), minval = 1, maxval=9, dtype=tf.int32)\n",
        "b"
      ],
      "metadata": {
        "colab": {
          "base_uri": "https://localhost:8080/"
        },
        "id": "jveU6q0lCRiX",
        "outputId": "e4dd4bdc-cb1c-4814-a540-ea5f0aed96d9"
      },
      "execution_count": null,
      "outputs": [
        {
          "output_type": "execute_result",
          "data": {
            "text/plain": [
              "<tf.Tensor: shape=(3, 3, 3), dtype=int32, numpy=\n",
              "array([[[5, 1, 3],\n",
              "        [2, 7, 8],\n",
              "        [2, 7, 2]],\n",
              "\n",
              "       [[7, 2, 1],\n",
              "        [5, 4, 7],\n",
              "        [2, 8, 3]],\n",
              "\n",
              "       [[6, 6, 3],\n",
              "        [8, 5, 4],\n",
              "        [3, 2, 8]]], dtype=int32)>"
            ]
          },
          "metadata": {},
          "execution_count": 15
        }
      ]
    },
    {
      "cell_type": "code",
      "source": [
        "tf.argmax(b)"
      ],
      "metadata": {
        "colab": {
          "base_uri": "https://localhost:8080/"
        },
        "id": "iMZzDxiqCcmt",
        "outputId": "53429bbc-fd86-40ee-b597-837b30bd99db"
      },
      "execution_count": null,
      "outputs": [
        {
          "output_type": "execute_result",
          "data": {
            "text/plain": [
              "<tf.Tensor: shape=(3, 3), dtype=int64, numpy=\n",
              "array([[1, 2, 0],\n",
              "       [2, 0, 0],\n",
              "       [2, 1, 2]])>"
            ]
          },
          "metadata": {},
          "execution_count": 18
        }
      ]
    },
    {
      "cell_type": "markdown",
      "source": [
        "#I31\n"
      ],
      "metadata": {
        "id": "VQTYF53QEfrw"
      }
    },
    {
      "cell_type": "code",
      "source": [
        "#tensor flow squeeze\n",
        "tf.random.set_seed(42)\n",
        "a = tf.constant(tf.random.uniform(shape=[50,]), shape=(1,1,1,1,50))\n",
        "a"
      ],
      "metadata": {
        "colab": {
          "base_uri": "https://localhost:8080/"
        },
        "id": "9g-_cE3MEiEM",
        "outputId": "394679e4-f197-448f-f711-02cbd777db21"
      },
      "execution_count": null,
      "outputs": [
        {
          "output_type": "execute_result",
          "data": {
            "text/plain": [
              "<tf.Tensor: shape=(1, 1, 1, 1, 50), dtype=float32, numpy=\n",
              "array([[[[[0.6645621 , 0.44100678, 0.3528825 , 0.46448255, 0.03366041,\n",
              "           0.68467236, 0.74011743, 0.8724445 , 0.22632635, 0.22319686,\n",
              "           0.3103881 , 0.7223358 , 0.13318717, 0.5480639 , 0.5746088 ,\n",
              "           0.8996835 , 0.00946367, 0.5212307 , 0.6345445 , 0.1993283 ,\n",
              "           0.72942245, 0.54583454, 0.10756552, 0.6767061 , 0.6602763 ,\n",
              "           0.33695042, 0.60141766, 0.21062577, 0.8527372 , 0.44062173,\n",
              "           0.9485276 , 0.23752594, 0.81179297, 0.5263394 , 0.494308  ,\n",
              "           0.21612847, 0.8457197 , 0.8718841 , 0.3083862 , 0.6868038 ,\n",
              "           0.23764038, 0.7817228 , 0.9671384 , 0.06870162, 0.79873943,\n",
              "           0.66028714, 0.5871513 , 0.16461694, 0.7381023 , 0.32054043]]]]],\n",
              "      dtype=float32)>"
            ]
          },
          "metadata": {},
          "execution_count": 30
        }
      ]
    },
    {
      "cell_type": "code",
      "source": [
        "tf.squeeze(a) #removes all the single dimensions from the tensor"
      ],
      "metadata": {
        "colab": {
          "base_uri": "https://localhost:8080/"
        },
        "id": "YnQkAaatEz7w",
        "outputId": "debc68f5-9d11-412d-d834-b216ee46eeb1"
      },
      "execution_count": null,
      "outputs": [
        {
          "output_type": "execute_result",
          "data": {
            "text/plain": [
              "<tf.Tensor: shape=(50,), dtype=float32, numpy=\n",
              "array([0.6645621 , 0.44100678, 0.3528825 , 0.46448255, 0.03366041,\n",
              "       0.68467236, 0.74011743, 0.8724445 , 0.22632635, 0.22319686,\n",
              "       0.3103881 , 0.7223358 , 0.13318717, 0.5480639 , 0.5746088 ,\n",
              "       0.8996835 , 0.00946367, 0.5212307 , 0.6345445 , 0.1993283 ,\n",
              "       0.72942245, 0.54583454, 0.10756552, 0.6767061 , 0.6602763 ,\n",
              "       0.33695042, 0.60141766, 0.21062577, 0.8527372 , 0.44062173,\n",
              "       0.9485276 , 0.23752594, 0.81179297, 0.5263394 , 0.494308  ,\n",
              "       0.21612847, 0.8457197 , 0.8718841 , 0.3083862 , 0.6868038 ,\n",
              "       0.23764038, 0.7817228 , 0.9671384 , 0.06870162, 0.79873943,\n",
              "       0.66028714, 0.5871513 , 0.16461694, 0.7381023 , 0.32054043],\n",
              "      dtype=float32)>"
            ]
          },
          "metadata": {},
          "execution_count": 31
        }
      ]
    },
    {
      "cell_type": "markdown",
      "source": [
        "#I32"
      ],
      "metadata": {
        "id": "7UqeoPFGGEZ-"
      }
    },
    {
      "cell_type": "code",
      "source": [
        "#one hot encode tensor\n",
        "\n",
        "some_list = [3,1,3,4,5]\n",
        "tf.one_hot(some_list, depth=6)"
      ],
      "metadata": {
        "colab": {
          "base_uri": "https://localhost:8080/"
        },
        "id": "RJBP7xl7E9QR",
        "outputId": "defa76ef-8089-4e04-9077-f0bb86060f80"
      },
      "execution_count": null,
      "outputs": [
        {
          "output_type": "execute_result",
          "data": {
            "text/plain": [
              "<tf.Tensor: shape=(5, 6), dtype=float32, numpy=\n",
              "array([[0., 0., 0., 1., 0., 0.],\n",
              "       [0., 1., 0., 0., 0., 0.],\n",
              "       [0., 0., 0., 1., 0., 0.],\n",
              "       [0., 0., 0., 0., 1., 0.],\n",
              "       [0., 0., 0., 0., 0., 1.]], dtype=float32)>"
            ]
          },
          "metadata": {},
          "execution_count": 46
        }
      ]
    },
    {
      "cell_type": "code",
      "source": [
        "#sqaring, sqrt,log\n",
        "\n",
        "x=tf.range(1,10)\n",
        "x"
      ],
      "metadata": {
        "colab": {
          "base_uri": "https://localhost:8080/"
        },
        "id": "5EBMPPxbJH-v",
        "outputId": "4774c70a-c8ed-4b51-86b5-56aa60107877"
      },
      "execution_count": null,
      "outputs": [
        {
          "output_type": "execute_result",
          "data": {
            "text/plain": [
              "<tf.Tensor: shape=(9,), dtype=int32, numpy=array([1, 2, 3, 4, 5, 6, 7, 8, 9], dtype=int32)>"
            ]
          },
          "metadata": {},
          "execution_count": 47
        }
      ]
    },
    {
      "cell_type": "code",
      "source": [
        "tf.square(x)"
      ],
      "metadata": {
        "colab": {
          "base_uri": "https://localhost:8080/"
        },
        "id": "MPgR1O9xcu3z",
        "outputId": "9ef10576-9465-4226-f89a-96d8c30e3d28"
      },
      "execution_count": null,
      "outputs": [
        {
          "output_type": "execute_result",
          "data": {
            "text/plain": [
              "<tf.Tensor: shape=(9,), dtype=int32, numpy=array([ 1,  4,  9, 16, 25, 36, 49, 64, 81], dtype=int32)>"
            ]
          },
          "metadata": {},
          "execution_count": 48
        }
      ]
    },
    {
      "cell_type": "code",
      "source": [
        "tf.sqrt(tf.cast(x, dtype=tf.float32))"
      ],
      "metadata": {
        "colab": {
          "base_uri": "https://localhost:8080/"
        },
        "id": "zvxSQIIbcxRz",
        "outputId": "e6e36040-7d1b-4717-c798-75587dc9ae6b"
      },
      "execution_count": null,
      "outputs": [
        {
          "output_type": "execute_result",
          "data": {
            "text/plain": [
              "<tf.Tensor: shape=(9,), dtype=float32, numpy=\n",
              "array([1.       , 1.4142135, 1.7320508, 2.       , 2.236068 , 2.4494898,\n",
              "       2.6457512, 2.828427 , 3.       ], dtype=float32)>"
            ]
          },
          "metadata": {},
          "execution_count": 50
        }
      ]
    },
    {
      "cell_type": "code",
      "source": [
        "tf.math.log(tf.cast(x, dtype=tf.float32))"
      ],
      "metadata": {
        "colab": {
          "base_uri": "https://localhost:8080/"
        },
        "id": "Hy8AcQAndeHU",
        "outputId": "8407ce66-2b74-43a9-e380-a74f13485c2d"
      },
      "execution_count": null,
      "outputs": [
        {
          "output_type": "execute_result",
          "data": {
            "text/plain": [
              "<tf.Tensor: shape=(9,), dtype=float32, numpy=\n",
              "array([0.       , 0.6931472, 1.0986123, 1.3862944, 1.609438 , 1.7917595,\n",
              "       1.9459102, 2.0794415, 2.1972246], dtype=float32)>"
            ]
          },
          "metadata": {},
          "execution_count": 52
        }
      ]
    },
    {
      "cell_type": "code",
      "source": [
        "# ternsorflow and numpy\n",
        "import numpy as np\n",
        "\n",
        "x = tf.constant(np.arange(1,10))\n",
        "\n",
        "x.numpy(), type(x.numpy())"
      ],
      "metadata": {
        "colab": {
          "base_uri": "https://localhost:8080/"
        },
        "id": "n9YcyMOjdjc6",
        "outputId": "74b0570c-dabc-48a8-9ecc-9a2eeb7af43d"
      },
      "execution_count": null,
      "outputs": [
        {
          "output_type": "execute_result",
          "data": {
            "text/plain": [
              "(array([1, 2, 3, 4, 5, 6, 7, 8, 9]), numpy.ndarray)"
            ]
          },
          "metadata": {},
          "execution_count": 55
        }
      ]
    },
    {
      "cell_type": "code",
      "source": [
        "np.array(x), type(np.array(x))"
      ],
      "metadata": {
        "colab": {
          "base_uri": "https://localhost:8080/"
        },
        "id": "flJBnAKwfd1J",
        "outputId": "0493e7c8-54d5-49fa-d2bb-b041e3d78e14"
      },
      "execution_count": null,
      "outputs": [
        {
          "output_type": "execute_result",
          "data": {
            "text/plain": [
              "(array([1, 2, 3, 4, 5, 6, 7, 8, 9]), numpy.ndarray)"
            ]
          },
          "metadata": {},
          "execution_count": 57
        }
      ]
    },
    {
      "cell_type": "code",
      "source": [
        "#Finding GPU access\n",
        "\n",
        "tf.config.list_physical_devices()\n",
        "#tf.config.list_physical_devices('GPU')"
      ],
      "metadata": {
        "colab": {
          "base_uri": "https://localhost:8080/"
        },
        "id": "JCyEH_qaf7zN",
        "outputId": "44bb3873-ec10-4fe2-8ad6-4e6468ce55f7"
      },
      "execution_count": null,
      "outputs": [
        {
          "output_type": "execute_result",
          "data": {
            "text/plain": [
              "[PhysicalDevice(name='/physical_device:CPU:0', device_type='CPU'),\n",
              " PhysicalDevice(name='/physical_device:GPU:0', device_type='GPU')]"
            ]
          },
          "metadata": {},
          "execution_count": 4
        }
      ]
    },
    {
      "cell_type": "code",
      "source": [
        "tf.config.list_logical_devices()"
      ],
      "metadata": {
        "colab": {
          "base_uri": "https://localhost:8080/"
        },
        "id": "vKLR5PSThVOE",
        "outputId": "61a7c84c-4ed7-4015-8b18-45b1d70e0ae8"
      },
      "execution_count": null,
      "outputs": [
        {
          "output_type": "execute_result",
          "data": {
            "text/plain": [
              "[LogicalDevice(name='/device:CPU:0', device_type='CPU'),\n",
              " LogicalDevice(name='/device:GPU:0', device_type='GPU')]"
            ]
          },
          "metadata": {},
          "execution_count": 5
        }
      ]
    },
    {
      "cell_type": "code",
      "source": [
        "!nvidia-smi"
      ],
      "metadata": {
        "colab": {
          "base_uri": "https://localhost:8080/"
        },
        "id": "Z5phfFaQinFj",
        "outputId": "4e78bab9-e186-4bc5-e002-897c5004af21"
      },
      "execution_count": null,
      "outputs": [
        {
          "output_type": "stream",
          "name": "stdout",
          "text": [
            "Mon Jun 17 09:33:01 2024       \n",
            "+---------------------------------------------------------------------------------------+\n",
            "| NVIDIA-SMI 535.104.05             Driver Version: 535.104.05   CUDA Version: 12.2     |\n",
            "|-----------------------------------------+----------------------+----------------------+\n",
            "| GPU  Name                 Persistence-M | Bus-Id        Disp.A | Volatile Uncorr. ECC |\n",
            "| Fan  Temp   Perf          Pwr:Usage/Cap |         Memory-Usage | GPU-Util  Compute M. |\n",
            "|                                         |                      |               MIG M. |\n",
            "|=========================================+======================+======================|\n",
            "|   0  Tesla T4                       Off | 00000000:00:04.0 Off |                    0 |\n",
            "| N/A   47C    P0              29W /  70W |    103MiB / 15360MiB |      0%      Default |\n",
            "|                                         |                      |                  N/A |\n",
            "+-----------------------------------------+----------------------+----------------------+\n",
            "                                                                                         \n",
            "+---------------------------------------------------------------------------------------+\n",
            "| Processes:                                                                            |\n",
            "|  GPU   GI   CI        PID   Type   Process name                            GPU Memory |\n",
            "|        ID   ID                                                             Usage      |\n",
            "|=======================================================================================|\n",
            "+---------------------------------------------------------------------------------------+\n"
          ]
        }
      ]
    },
    {
      "cell_type": "markdown",
      "source": [
        "#Exercises\n",
        "\n",
        "1. Create a vector, scalar, matrix and tensor with values of your choosing using tf.constant().\n",
        "2. Find the shape, rank and size of the tensors you created in 1.\n",
        "3. Create two tensors containing random values between 0 and 1 with shape [5, 300].\n",
        "4. Multiply the two tensors you created in 3 using matrix multiplication.\n",
        "5. Multiply the two tensors you created in 3 using dot product.\n",
        "6. Create a tensor with random values between 0 and 1 with shape [224, 224, 3].\n",
        "7. Find the min and max values of the tensor you created in 6 along the first axis.\n",
        "8. Created a tensor with random values of shape [1, 224, 224, 3] then squeeze it to change the shape to [224, 224, 3].\n",
        "9. Create a tensor with shape [10] using your own choice of values, then find the index which has the maximum value.\n",
        "10. One-hot encode the tensor you created in 9."
      ],
      "metadata": {
        "id": "ldB5Nuw1kl0A"
      }
    },
    {
      "cell_type": "code",
      "source": [
        "import tensorflow as tf\n",
        "import numpy as np"
      ],
      "metadata": {
        "id": "QgMt3Mxbio3s"
      },
      "execution_count": null,
      "outputs": []
    },
    {
      "cell_type": "code",
      "source": [
        "#1\n",
        "scalar = tf.constant(5)\n",
        "\n",
        "vector = tf.constant([12,3,4,5,6,73,6,6])\n",
        "\n",
        "matrix = tf.constant([[1,2,3,4],\n",
        "                      [2,3,41,4],\n",
        "                      [23,5,6,3]])\n",
        "\n",
        "tensor = tf.constant(\n",
        "    [[[12,4,5],\n",
        "    [23,43,1],\n",
        "    [8,57,4]],\n",
        "\n",
        "\n",
        "    [[12,43,7],\n",
        "    [67,8,3],\n",
        "    [2,4,6]]]\n",
        ")"
      ],
      "metadata": {
        "id": "hl_Eaxlu6uW0"
      },
      "execution_count": null,
      "outputs": []
    },
    {
      "cell_type": "code",
      "source": [
        "#2\n",
        "\n",
        "def get_info(x):\n",
        "    return x.shape, x.ndim, tf.size(x).numpy()\n",
        "\n",
        "\n",
        "scalar_shape, scalar_dim, scalar_size = get_info(scalar)\n",
        "vector_shape, vector_dim, vector_size = get_info(vector)\n",
        "tensor_shape, tensor_dim, tensor_size = get_info(tensor)\n",
        "matrix_shape, matrix_dim, matrix_size = get_info(matrix)\n",
        "\n",
        "\n",
        "#matrix_shape, matrix_dim, matrix_size"
      ],
      "metadata": {
        "colab": {
          "base_uri": "https://localhost:8080/"
        },
        "id": "kRWQn-UW-r2c",
        "outputId": "50ecf7ec-8e52-4023-ac29-2f569a3bb4cd"
      },
      "execution_count": null,
      "outputs": [
        {
          "output_type": "execute_result",
          "data": {
            "text/plain": [
              "(TensorShape([3, 4]), 2, 12)"
            ]
          },
          "metadata": {},
          "execution_count": 24
        }
      ]
    },
    {
      "cell_type": "code",
      "source": [
        "#3\n",
        "\n",
        "tf.random.set_seed(42)\n",
        "\n",
        "tensor_a = tf.random.uniform((5,300), 0,1)\n",
        "tensor_b = tf.random.uniform((5,300), 0,1)"
      ],
      "metadata": {
        "id": "S5yCEnqS9wSZ"
      },
      "execution_count": null,
      "outputs": []
    },
    {
      "cell_type": "code",
      "source": [
        "#4\n",
        "\n",
        "res = tf.matmul(tensor_a, tf.transpose(tensor_b))"
      ],
      "metadata": {
        "id": "1wYI5apr-BoR"
      },
      "execution_count": null,
      "outputs": []
    },
    {
      "cell_type": "code",
      "source": [
        "#5\n",
        "\n",
        "res_dot = tf.tensordot(tensor_a, tf.transpose(tensor_b),1)"
      ],
      "metadata": {
        "id": "EIZfEKXIA5HC"
      },
      "execution_count": null,
      "outputs": []
    },
    {
      "cell_type": "code",
      "source": [],
      "metadata": {
        "colab": {
          "base_uri": "https://localhost:8080/"
        },
        "id": "OsFXFoFnBatl",
        "outputId": "7207ff69-a8c2-4d3c-8d90-17fd53f7b10f"
      },
      "execution_count": null,
      "outputs": [
        {
          "output_type": "execute_result",
          "data": {
            "text/plain": [
              "<tf.Tensor: shape=(5, 5), dtype=float32, numpy=\n",
              "array([[80.333435, 73.40498 , 77.15961 , 73.98368 , 80.90053 ],\n",
              "       [75.14637 , 68.80438 , 74.24303 , 71.84184 , 75.60205 ],\n",
              "       [79.7594  , 75.64456 , 77.79758 , 74.748726, 80.55984 ],\n",
              "       [75.085266, 69.06408 , 74.30776 , 72.27615 , 76.05667 ],\n",
              "       [85.05689 , 74.26629 , 78.00687 , 74.886795, 83.13417 ]],\n",
              "      dtype=float32)>"
            ]
          },
          "metadata": {},
          "execution_count": 38
        }
      ]
    },
    {
      "cell_type": "code",
      "source": [
        "#6\n",
        "tf.random.set_seed(23)\n",
        "\n",
        "tensor_c = tf.random.uniform([224,224,3], 0,1)"
      ],
      "metadata": {
        "id": "XkZdICLOBdph"
      },
      "execution_count": null,
      "outputs": []
    },
    {
      "cell_type": "code",
      "source": [
        "#7\n",
        "tf.reduce_max(tensor_c[0]), tf.reduce_min(tensor_c[0])"
      ],
      "metadata": {
        "colab": {
          "base_uri": "https://localhost:8080/"
        },
        "id": "39IsxJ2FDyAc",
        "outputId": "938172a8-7784-4b96-9d2c-700f5ccb7668"
      },
      "execution_count": null,
      "outputs": [
        {
          "output_type": "execute_result",
          "data": {
            "text/plain": [
              "(<tf.Tensor: shape=(), dtype=float32, numpy=0.99957156>,\n",
              " <tf.Tensor: shape=(), dtype=float32, numpy=0.0025897026>)"
            ]
          },
          "metadata": {},
          "execution_count": 49
        }
      ]
    },
    {
      "cell_type": "code",
      "source": [
        "#8\n",
        "\n",
        "tensor_x = tf.random.uniform([1,224,224,3], 0,1)\n",
        "tensor_x_squeezed = tf.squeeze(tensor_x)\n",
        "\n",
        "tensor_x_squeezed"
      ],
      "metadata": {
        "colab": {
          "base_uri": "https://localhost:8080/"
        },
        "id": "Eui17vcZEaTE",
        "outputId": "5f635248-64ae-4a50-d3f5-ef5f317cd06f"
      },
      "execution_count": null,
      "outputs": [
        {
          "output_type": "execute_result",
          "data": {
            "text/plain": [
              "<tf.Tensor: shape=(224, 224, 3), dtype=float32, numpy=\n",
              "array([[[0.9929017 , 0.6378733 , 0.335773  ],\n",
              "        [0.4006816 , 0.7837721 , 0.89023626],\n",
              "        [0.7642853 , 0.19973111, 0.73868346],\n",
              "        ...,\n",
              "        [0.2780851 , 0.06537044, 0.6527029 ],\n",
              "        [0.03169656, 0.58649504, 0.67114484],\n",
              "        [0.24005389, 0.510761  , 0.1086185 ]],\n",
              "\n",
              "       [[0.18847585, 0.8783175 , 0.9365133 ],\n",
              "        [0.5454662 , 0.37045264, 0.19518054],\n",
              "        [0.41947842, 0.00910306, 0.996048  ],\n",
              "        ...,\n",
              "        [0.66999614, 0.688213  , 0.07078707],\n",
              "        [0.95243216, 0.43373907, 0.8887682 ],\n",
              "        [0.36297143, 0.35791862, 0.5512918 ]],\n",
              "\n",
              "       [[0.9148817 , 0.9590056 , 0.26632833],\n",
              "        [0.88720274, 0.8975265 , 0.62623966],\n",
              "        [0.42320168, 0.02778387, 0.7122961 ],\n",
              "        ...,\n",
              "        [0.15505147, 0.47819436, 0.16151476],\n",
              "        [0.6922122 , 0.28036702, 0.60562265],\n",
              "        [0.28843772, 0.14054227, 0.30630243]],\n",
              "\n",
              "       ...,\n",
              "\n",
              "       [[0.8339411 , 0.31764746, 0.7197784 ],\n",
              "        [0.01132226, 0.02357996, 0.10013819],\n",
              "        [0.9758136 , 0.42114925, 0.9367528 ],\n",
              "        ...,\n",
              "        [0.1441474 , 0.5642741 , 0.8703631 ],\n",
              "        [0.12287021, 0.06722522, 0.16114151],\n",
              "        [0.3157369 , 0.78383315, 0.3810352 ]],\n",
              "\n",
              "       [[0.8726194 , 0.28470862, 0.42952943],\n",
              "        [0.10926926, 0.18427372, 0.6027863 ],\n",
              "        [0.37585628, 0.97835565, 0.7694398 ],\n",
              "        ...,\n",
              "        [0.02371359, 0.09644151, 0.8393941 ],\n",
              "        [0.04607213, 0.9375049 , 0.00827372],\n",
              "        [0.80111945, 0.85903275, 0.65782154]],\n",
              "\n",
              "       [[0.74587286, 0.61432207, 0.9495379 ],\n",
              "        [0.6596497 , 0.15683377, 0.15835834],\n",
              "        [0.08994269, 0.2525549 , 0.17929482],\n",
              "        ...,\n",
              "        [0.4782163 , 0.51448166, 0.62957525],\n",
              "        [0.31511962, 0.8734348 , 0.2257278 ],\n",
              "        [0.9070493 , 0.25514507, 0.0739572 ]]], dtype=float32)>"
            ]
          },
          "metadata": {},
          "execution_count": 52
        }
      ]
    },
    {
      "cell_type": "code",
      "source": [
        "#9\n",
        "t = tf.range(0,10)\n",
        "\n",
        "tf.argmax(t)"
      ],
      "metadata": {
        "colab": {
          "base_uri": "https://localhost:8080/"
        },
        "id": "jtJZrMExE_ce",
        "outputId": "ffab742e-7eec-4cf0-a06e-b0653b878acc"
      },
      "execution_count": null,
      "outputs": [
        {
          "output_type": "execute_result",
          "data": {
            "text/plain": [
              "<tf.Tensor: shape=(), dtype=int64, numpy=9>"
            ]
          },
          "metadata": {},
          "execution_count": 58
        }
      ]
    },
    {
      "cell_type": "code",
      "source": [
        "#10\n",
        "tf.one_hot(t, depth = 9)"
      ],
      "metadata": {
        "colab": {
          "base_uri": "https://localhost:8080/"
        },
        "id": "HfVo4ty9FcJW",
        "outputId": "afcf3286-e511-4032-d06e-031c93b6c97e"
      },
      "execution_count": null,
      "outputs": [
        {
          "output_type": "execute_result",
          "data": {
            "text/plain": [
              "<tf.Tensor: shape=(10, 9), dtype=float32, numpy=\n",
              "array([[1., 0., 0., 0., 0., 0., 0., 0., 0.],\n",
              "       [0., 1., 0., 0., 0., 0., 0., 0., 0.],\n",
              "       [0., 0., 1., 0., 0., 0., 0., 0., 0.],\n",
              "       [0., 0., 0., 1., 0., 0., 0., 0., 0.],\n",
              "       [0., 0., 0., 0., 1., 0., 0., 0., 0.],\n",
              "       [0., 0., 0., 0., 0., 1., 0., 0., 0.],\n",
              "       [0., 0., 0., 0., 0., 0., 1., 0., 0.],\n",
              "       [0., 0., 0., 0., 0., 0., 0., 1., 0.],\n",
              "       [0., 0., 0., 0., 0., 0., 0., 0., 1.],\n",
              "       [0., 0., 0., 0., 0., 0., 0., 0., 0.]], dtype=float32)>"
            ]
          },
          "metadata": {},
          "execution_count": 60
        }
      ]
    }
  ]
}